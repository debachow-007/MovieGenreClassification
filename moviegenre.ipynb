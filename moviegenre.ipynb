{
 "cells": [
  {
   "cell_type": "code",
   "execution_count": 1,
   "metadata": {},
   "outputs": [],
   "source": [
    "import pandas as pd\n",
    "import numpy as np\n",
    "from matplotlib import pyplot as plt\n",
    "import spacy\n",
    "from nltk.corpus import stopwords\n",
    "from nltk.stem import WordNetLemmatizer\n",
    "from nltk.tokenize import word_tokenize\n",
    "from textblob import TextBlob\n",
    "from sklearn import preprocessing"
   ]
  },
  {
   "cell_type": "code",
   "execution_count": 2,
   "metadata": {},
   "outputs": [
    {
     "data": {
      "text/html": [
       "<div>\n",
       "<style scoped>\n",
       "    .dataframe tbody tr th:only-of-type {\n",
       "        vertical-align: middle;\n",
       "    }\n",
       "\n",
       "    .dataframe tbody tr th {\n",
       "        vertical-align: top;\n",
       "    }\n",
       "\n",
       "    .dataframe thead th {\n",
       "        text-align: right;\n",
       "    }\n",
       "</style>\n",
       "<table border=\"1\" class=\"dataframe\">\n",
       "  <thead>\n",
       "    <tr style=\"text-align: right;\">\n",
       "      <th></th>\n",
       "      <th>TITLE</th>\n",
       "      <th>DESCRIPTION</th>\n",
       "      <th>GENRE</th>\n",
       "    </tr>\n",
       "  </thead>\n",
       "  <tbody>\n",
       "    <tr>\n",
       "      <th>0</th>\n",
       "      <td>The Matrix</td>\n",
       "      <td>A computer hacker learns about the true nature...</td>\n",
       "      <td>Sci-Fi</td>\n",
       "    </tr>\n",
       "    <tr>\n",
       "      <th>1</th>\n",
       "      <td>Titanic</td>\n",
       "      <td>A young aristocrat falls in love with a kind b...</td>\n",
       "      <td>Romance</td>\n",
       "    </tr>\n",
       "    <tr>\n",
       "      <th>2</th>\n",
       "      <td>Inception</td>\n",
       "      <td>A thief who steals corporate secrets through t...</td>\n",
       "      <td>Action</td>\n",
       "    </tr>\n",
       "    <tr>\n",
       "      <th>3</th>\n",
       "      <td>The Godfather</td>\n",
       "      <td>The aging patriarch of an organized crime dyna...</td>\n",
       "      <td>Crime</td>\n",
       "    </tr>\n",
       "    <tr>\n",
       "      <th>4</th>\n",
       "      <td>The Dark Knight</td>\n",
       "      <td>When the menace known as the Joker emerges fro...</td>\n",
       "      <td>Action</td>\n",
       "    </tr>\n",
       "  </tbody>\n",
       "</table>\n",
       "</div>"
      ],
      "text/plain": [
       "             TITLE                                        DESCRIPTION    GENRE\n",
       "0       The Matrix  A computer hacker learns about the true nature...   Sci-Fi\n",
       "1          Titanic  A young aristocrat falls in love with a kind b...  Romance\n",
       "2        Inception  A thief who steals corporate secrets through t...   Action\n",
       "3    The Godfather  The aging patriarch of an organized crime dyna...    Crime\n",
       "4  The Dark Knight  When the menace known as the Joker emerges fro...   Action"
      ]
     },
     "execution_count": 2,
     "metadata": {},
     "output_type": "execute_result"
    }
   ],
   "source": [
    "# Run this for testing\n",
    "\n",
    "data = {\n",
    "    'TITLE': [\n",
    "        'The Matrix',\n",
    "        'Titanic',\n",
    "        'Inception',\n",
    "        'The Godfather',\n",
    "        'The Dark Knight',\n",
    "        'Pulp Fiction',\n",
    "        'Forrest Gump',\n",
    "        'Fight Club',\n",
    "        'The Shawshank Redemption',\n",
    "        'Gladiator'\n",
    "    ],\n",
    "    'DESCRIPTION': [\n",
    "        'A computer hacker learns about the true nature of his reality and his role in the war against its controllers.',\n",
    "        'A young aristocrat falls in love with a kind but poor artist aboard the luxurious, ill-fated R.M.S. Titanic.',\n",
    "        'A thief who steals corporate secrets through the use of dream-sharing technology is given the inverse task of planting an idea into the mind of a C.E.O.',\n",
    "        'The aging patriarch of an organized crime dynasty transfers control of his clandestine empire to his reluctant son.',\n",
    "        'When the menace known as the Joker emerges from his mysterious past, he wreaks havoc and chaos on the people of Gotham.',\n",
    "        'The lives of two mob hitmen, a boxer, a gangster\\'s wife, and a pair of diner bandits intertwine in four tales of violence and redemption.',\n",
    "        'The presidencies of Kennedy and Johnson, the events of Vietnam, Watergate, and other history unfold through the perspective of an Alabama man with an IQ of 75.',\n",
    "        'An insomniac office worker and a devil-may-care soap maker form an underground fight club that evolves into something much, much more.',\n",
    "        'Two imprisoned men bond over a number of years, finding solace and eventual redemption through acts of common decency.',\n",
    "        'A former Roman General sets out to exact vengeance against the corrupt emperor who murdered his family and sent him into slavery.'\n",
    "    ],\n",
    "    'GENRE': [\n",
    "        'Sci-Fi',\n",
    "        'Romance',\n",
    "        'Action',\n",
    "        'Crime',\n",
    "        'Action',\n",
    "        'Crime',\n",
    "        'Drama',\n",
    "        'Drama',\n",
    "        'Drama',\n",
    "        'Action'\n",
    "    ]\n",
    "}\n",
    "\n",
    "df = pd.DataFrame(data)\n",
    "df.head()"
   ]
  },
  {
   "cell_type": "code",
   "execution_count": null,
   "metadata": {},
   "outputs": [],
   "source": [
    "# DO NOT RUN THIS YET\n",
    "df = pd.read_csv('dataset/movie_data.csv', index_col=0)\n",
    "df.head()"
   ]
  },
  {
   "cell_type": "code",
   "execution_count": null,
   "metadata": {},
   "outputs": [],
   "source": [
    "# DO NOT RUN THIS YET\n",
    "\n",
    "df[['TITLE', 'YEAR']] = df['TITLE'].str.extract(r'^(.*)\\((\\d{4})\\)$')\n",
    "df = df[['TITLE', 'YEAR', 'GENRE', 'DESCRIPTION']]\n",
    "df.dropna(inplace=True)\n",
    "df['TITLE'] = df['TITLE'].str.replace('\"', '')\n",
    "df['YEAR'] = pd.to_datetime(df['YEAR'], format='%Y').dt.year\n",
    "df.reset_index(drop=True, inplace=True)\n",
    "df.head()"
   ]
  },
  {
   "cell_type": "code",
   "execution_count": 3,
   "metadata": {},
   "outputs": [
    {
     "name": "stdout",
     "output_type": "stream",
     "text": [
      "<class 'pandas.core.frame.DataFrame'>\n",
      "RangeIndex: 10 entries, 0 to 9\n",
      "Data columns (total 3 columns):\n",
      " #   Column       Non-Null Count  Dtype \n",
      "---  ------       --------------  ----- \n",
      " 0   TITLE        10 non-null     object\n",
      " 1   DESCRIPTION  10 non-null     object\n",
      " 2   GENRE        10 non-null     object\n",
      "dtypes: object(3)\n",
      "memory usage: 372.0+ bytes\n"
     ]
    }
   ],
   "source": [
    "df.info()"
   ]
  },
  {
   "cell_type": "code",
   "execution_count": 4,
   "metadata": {},
   "outputs": [
    {
     "data": {
      "image/png": "[encoded data removed]",
      "text/plain": [
       "<Figure size 640x480 with 1 Axes>"
      ]
     },
     "metadata": {},
     "output_type": "display_data"
    }
   ],
   "source": [
    "x_values = list(df['GENRE'].value_counts().index)\n",
    "y_values = list(df['GENRE'].value_counts().values)\n",
    "\n",
    "x_values.reverse()\n",
    "y_values.reverse()\n",
    "\n",
    "plt.barh(x_values, y_values)\n",
    "\n",
    "plt.title('Number of movies per genre')\n",
    "plt.xlabel('Number of movies')\n",
    "plt.ylabel('Genre')\n",
    "\n",
    "plt.tight_layout()\n",
    "\n",
    "plt.show()"
   ]
  },
  {
   "cell_type": "code",
   "execution_count": null,
   "metadata": {},
   "outputs": [],
   "source": [
    "# DO NOT RUN THIS YET\n",
    "\n",
    "x_values = list(df['YEAR'].value_counts().index)\n",
    "y_values = list(df['YEAR'].value_counts().values)\n",
    "\n",
    "plt.bar(x_values, y_values)\n",
    "\n",
    "plt.title('Number of movies per year')\n",
    "plt.xlabel('Year')\n",
    "plt.ylabel('Number of movies')\n",
    "\n",
    "plt.tight_layout()\n",
    "\n",
    "plt.show()"
   ]
  },
  {
   "cell_type": "code",
   "execution_count": 5,
   "metadata": {},
   "outputs": [
    {
     "data": {
      "text/plain": [
       "'computer hacker learn true nature reality role war controller'"
      ]
     },
     "execution_count": 5,
     "metadata": {},
     "output_type": "execute_result"
    }
   ],
   "source": [
    "nlp = spacy.load('en_core_web_sm')\n",
    "\n",
    "def preprocess_spacy(text):\n",
    "    doc = nlp(text)\n",
    "    return ' '.join([token.lemma_ for token in doc if not token.is_punct and not token.is_stop])\n",
    "\n",
    "clean_text_spacy = df['DESCRIPTION'].apply(preprocess_spacy)\n",
    "clean_text_spacy[0]"
   ]
  },
  {
   "cell_type": "code",
   "execution_count": 6,
   "metadata": {},
   "outputs": [
    {
     "data": {
      "text/plain": [
       "'computer hacker learns true nature reality role war controller'"
      ]
     },
     "execution_count": 6,
     "metadata": {},
     "output_type": "execute_result"
    }
   ],
   "source": [
    "nltk_lemmatizer = WordNetLemmatizer()\n",
    "nltk_stopwords = stopwords.words('english')\n",
    "\n",
    "def preprocess_nltk(text):\n",
    "    text = text.lower()\n",
    "    tokens = word_tokenize(text)\n",
    "    return ' '.join([nltk_lemmatizer.lemmatize(token) for token in tokens if token not in nltk_stopwords and (token.isalpha() or token.isdigit())])\n",
    "\n",
    "clean_text_nltk = df['DESCRIPTION'].apply(preprocess_nltk)\n",
    "clean_text_nltk[0]"
   ]
  },
  {
   "cell_type": "code",
   "execution_count": 7,
   "metadata": {},
   "outputs": [
    {
     "data": {
      "text/plain": [
       "'computer hacker learns true nature reality role war controller'"
      ]
     },
     "execution_count": 7,
     "metadata": {},
     "output_type": "execute_result"
    }
   ],
   "source": [
    "def preprocess_textblob(text):\n",
    "    blob = TextBlob(text)\n",
    "    blob = blob.lower()\n",
    "    return ' '.join([word.lemmatize() for word in blob.words if word not in nltk_stopwords])\n",
    "\n",
    "clean_text_blob = df['DESCRIPTION'].apply(preprocess_textblob)\n",
    "clean_text_blob[0]"
   ]
  },
  {
   "cell_type": "code",
   "execution_count": 8,
   "metadata": {},
   "outputs": [
    {
     "name": "stdout",
     "output_type": "stream",
     "text": [
      "Bag of Words (BoW) representation:\n",
      "[[0 0 0 ... 0 0 0]\n",
      " [0 1 0 ... 0 0 1]\n",
      " [0 0 0 ... 0 0 0]\n",
      " ...\n",
      " [0 0 0 ... 0 0 0]\n",
      " [0 0 1 ... 0 1 0]\n",
      " [0 0 0 ... 0 0 0]]\n",
      "Feature names:\n",
      "['75' 'aboard' 'act' 'aging' 'alabama' 'aristocrat' 'artist' 'bandit'\n",
      " 'bond' 'boxer' 'chaos' 'clandestine' 'club' 'common' 'computer' 'control'\n",
      " 'controller' 'corporate' 'corrupt' 'crime' 'decency' 'diner' 'dynasty'\n",
      " 'emerges' 'emperor' 'empire' 'event' 'eventual' 'evolves' 'exact' 'fall'\n",
      " 'family' 'fight' 'finding' 'form' 'former' 'four' 'gangster' 'general'\n",
      " 'given' 'gotham' 'hacker' 'havoc' 'history' 'hitman' 'idea' 'imprisoned'\n",
      " 'insomniac' 'intertwine' 'inverse' 'iq' 'johnson' 'joker' 'kennedy'\n",
      " 'kind' 'known' 'learns' 'life' 'love' 'luxurious' 'maker' 'man' 'men'\n",
      " 'menace' 'mind' 'mob' 'much' 'murdered' 'mysterious' 'nature' 'number'\n",
      " 'office' 'organized' 'pair' 'past' 'patriarch' 'people' 'perspective'\n",
      " 'planting' 'poor' 'presidency' 'reality' 'redemption' 'reluctant' 'role'\n",
      " 'roman' 'secret' 'sent' 'set' 'slavery' 'soap' 'solace' 'something' 'son'\n",
      " 'steal' 'tale' 'task' 'technology' 'thief' 'titanic' 'transfer' 'true'\n",
      " 'two' 'underground' 'unfold' 'use' 'vengeance' 'vietnam' 'violence' 'war'\n",
      " 'watergate' 'wife' 'worker' 'wreaks' 'year' 'young']\n"
     ]
    }
   ],
   "source": [
    "from sklearn.feature_extraction.text import CountVectorizer\n",
    "\n",
    "# Initialize CountVectorizer\n",
    "vectorizer = CountVectorizer()\n",
    "bow_vector = vectorizer.fit_transform(clean_text_nltk)\n",
    "\n",
    "# Convert to array\n",
    "print(\"Bag of Words (BoW) representation:\")\n",
    "print(bow_vector.toarray())\n",
    "print(\"Feature names:\")\n",
    "print(vectorizer.get_feature_names_out())"
   ]
  },
  {
   "cell_type": "code",
   "execution_count": 15,
   "metadata": {},
   "outputs": [
    {
     "name": "stdout",
     "output_type": "stream",
     "text": [
      "\n",
      "Part of Speech (POS) Tags:\n",
      "[[('computer', 'NN'), ('hacker', 'NN'), ('learns', 'VBZ'), ('true', 'JJ'), ('nature', 'NN'), ('reality', 'NN'), ('role', 'NN'), ('war', 'NN'), ('controller', 'NN')], [('young', 'JJ'), ('aristocrat', 'VBP'), ('fall', 'JJ'), ('love', 'NN'), ('kind', 'NN'), ('poor', 'JJ'), ('artist', 'NN'), ('aboard', 'IN'), ('luxurious', 'JJ'), ('titanic', 'NN')], [('thief', 'JJ'), ('steal', 'JJ'), ('corporate', 'JJ'), ('secret', 'NN'), ('use', 'NN'), ('technology', 'NN'), ('given', 'VBN'), ('inverse', 'JJ'), ('task', 'NN'), ('planting', 'VBG'), ('idea', 'NN'), ('mind', 'NN')], [('aging', 'VBG'), ('patriarch', 'NN'), ('organized', 'VBN'), ('crime', 'NN'), ('dynasty', 'NN'), ('transfer', 'NN'), ('control', 'NN'), ('clandestine', 'NN'), ('empire', 'NN'), ('reluctant', 'JJ'), ('son', 'NN')], [('menace', 'NN'), ('known', 'VBN'), ('joker', 'NN'), ('emerges', 'VBZ'), ('mysterious', 'JJ'), ('past', 'IN'), ('wreaks', 'NNS'), ('havoc', 'JJ'), ('chaos', 'NN'), ('people', 'NNS'), ('gotham', 'VBP')], [('life', 'NN'), ('two', 'CD'), ('mob', 'NN'), ('hitman', 'NN'), ('boxer', 'NN'), ('gangster', 'NN'), ('wife', 'NN'), ('pair', 'NN'), ('diner', 'NN'), ('bandit', 'NN'), ('intertwine', 'VBP'), ('four', 'CD'), ('tale', 'JJ'), ('violence', 'NN'), ('redemption', 'NN')], [('presidency', 'NN'), ('kennedy', 'NN'), ('johnson', 'NN'), ('event', 'NN'), ('vietnam', 'JJ'), ('watergate', 'NN'), ('history', 'NN'), ('unfold', 'JJ'), ('perspective', 'NN'), ('alabama', 'NN'), ('man', 'NN'), ('iq', 'VBZ'), ('75', 'CD')], [('insomniac', 'JJ'), ('office', 'NN'), ('worker', 'NN'), ('soap', 'NN'), ('maker', 'NN'), ('form', 'NN'), ('underground', 'JJ'), ('fight', 'NN'), ('club', 'NN'), ('evolves', 'VBZ'), ('something', 'NN'), ('much', 'RB'), ('much', 'JJ')], [('two', 'CD'), ('imprisoned', 'JJ'), ('men', 'NNS'), ('bond', 'NN'), ('number', 'NN'), ('year', 'NN'), ('finding', 'VBG'), ('solace', 'NN'), ('eventual', 'JJ'), ('redemption', 'NN'), ('act', 'NN'), ('common', 'JJ'), ('decency', 'NN')], [('former', 'JJ'), ('roman', 'NN'), ('general', 'JJ'), ('set', 'VBN'), ('exact', 'JJ'), ('vengeance', 'NN'), ('corrupt', 'JJ'), ('emperor', 'NN'), ('murdered', 'VBD'), ('family', 'NN'), ('sent', 'VBD'), ('slavery', 'NN')]]\n"
     ]
    }
   ],
   "source": [
    "import nltk\n",
    "from nltk import pos_tag\n",
    "from nltk.tokenize import word_tokenize\n",
    "\n",
    "pos_tags = []\n",
    "\n",
    "for item in clean_text_nltk:\n",
    "    tokens = word_tokenize(item)\n",
    "    tags = pos_tag(tokens)\n",
    "    pos_tags.append(tags)\n",
    "\n",
    "print(\"\\nPart of Speech (POS) Tags:\")\n",
    "print(pos_tags)"
   ]
  },
  {
   "cell_type": "code",
   "execution_count": 20,
   "metadata": {},
   "outputs": [
    {
     "name": "stdout",
     "output_type": "stream",
     "text": [
      "\n",
      "Named Entity Recognition (NER):\n",
      "young aristocrat fall (PERSON)\n",
      "aging patriarch organized crime dynasty (ORG)\n",
      "people gotham (PERSON)\n",
      "two (CARDINAL)\n",
      "four (CARDINAL)\n",
      "presidency kennedy johnson (PERSON)\n",
      "vietnam (GPE)\n",
      "watergate (DATE)\n",
      "75 (CARDINAL)\n",
      "two (CARDINAL)\n",
      "number year (DATE)\n"
     ]
    }
   ],
   "source": [
    "import spacy\n",
    "\n",
    "nlp = spacy.load('en_core_web_sm')\n",
    "doc =[]\n",
    "for item in clean_text_nltk:\n",
    "    each = nlp(item)\n",
    "    doc.append(each)\n",
    "\n",
    "print(\"\\nNamed Entity Recognition (NER):\")\n",
    "for item in doc:\n",
    "    for ent in item.ents:\n",
    "        print(f\"{ent.text} ({ent.label_})\")"
   ]
  },
  {
   "cell_type": "code",
   "execution_count": null,
   "metadata": {},
   "outputs": [],
   "source": [
    "le = preprocessing.LabelEncoder()\n",
    "\n",
    "labels = le.fit_transform(df['GENRE'])\n",
    "display(le.classes_)"
   ]
  },
  {
   "cell_type": "code",
   "execution_count": null,
   "metadata": {},
   "outputs": [],
   "source": [
    "from sklearn.model_selection import train_test_split\n",
    "\n",
    "X_train, X_test, y_train, y_test = train_test_split(df['DESCRIPTION'], labels, test_size=0.2, random_state=42)\n",
    "\n",
    "display(len(X_train))\n",
    "display(len(X_test))\n",
    "display(len(y_train))\n",
    "display(len(y_test))"
   ]
  },
  {
   "cell_type": "code",
   "execution_count": null,
   "metadata": {},
   "outputs": [],
   "source": []
  },
  {
   "cell_type": "code",
   "execution_count": null,
   "metadata": {},
   "outputs": [],
   "source": [
    "def load_glove_embeddings(file_path):\n",
    "    embeddings_index = {}\n",
    "    with open(file_path, 'r', encoding='utf-8') as f:\n",
    "        for line in f:\n",
    "            values = line.split()\n",
    "            word = values[0]\n",
    "            coefs = np.asarray(values[1:], dtype='float32')\n",
    "            embeddings_index[word] = coefs\n",
    "    return embeddings_index\n",
    "\n",
    "# Load the 100-dimensional GloVe embeddings\n",
    "glove_embeddings = load_glove_embeddings('glove/glove.6B.100d.txt')\n",
    "\n",
    "len(glove_embeddings)"
   ]
  },
  {
   "cell_type": "code",
   "execution_count": null,
   "metadata": {},
   "outputs": [],
   "source": [
    "def get_embedding(text, embeddings_index, embedding_dim=100):\n",
    "    words = text.split()\n",
    "    valid_embeddings = [embeddings_index[word] for word in words if word in embeddings_index]\n",
    "    if valid_embeddings:\n",
    "        return np.mean(valid_embeddings, axis=0)\n",
    "    else:\n",
    "        return np.zeros(embedding_dim)\n",
    "\n",
    "df['embedding'] = df['DESCRIPTION'].apply(lambda x: get_embedding(x, glove_embeddings))\n",
    "\n",
    "# Prepare feature matrix and labels\n",
    "X = np.vstack(df['embedding'].values)\n",
    "y = df['GENRE']\n",
    "len(X)"
   ]
  }
 ],
 "metadata": {
  "kernelspec": {
   "display_name": "movenv",
   "language": "python",
   "name": "python3"
  },
  "language_info": {
   "codemirror_mode": {
    "name": "ipython",
    "version": 3
   },
   "file_extension": ".py",
   "mimetype": "text/x-python",
   "name": "python",
   "nbconvert_exporter": "python",
   "pygments_lexer": "ipython3",
   "version": "3.12.4"
  }
 },
 "nbformat": 4,
 "nbformat_minor": 2
}
